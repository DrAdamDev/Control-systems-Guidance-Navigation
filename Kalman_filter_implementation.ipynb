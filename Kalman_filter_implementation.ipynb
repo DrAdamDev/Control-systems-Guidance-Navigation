{
  "nbformat": 4,
  "nbformat_minor": 0,
  "metadata": {
    "colab": {
      "provenance": [],
      "authorship_tag": "ABX9TyPeJpPlhJ1oZQyAKH4D2zrT",
      "include_colab_link": true
    },
    "kernelspec": {
      "name": "python3",
      "display_name": "Python 3"
    },
    "language_info": {
      "name": "python"
    }
  },
  "cells": [
    {
      "cell_type": "markdown",
      "metadata": {
        "id": "view-in-github",
        "colab_type": "text"
      },
      "source": [
        "<a href=\"https://colab.research.google.com/github/DrAdamDev/Control-systems-Guidance-Navigation/blob/main/Kalman_filter_implementation.ipynb\" target=\"_parent\"><img src=\"https://colab.research.google.com/assets/colab-badge.svg\" alt=\"Open In Colab\"/></a>"
      ]
    },
    {
      "cell_type": "code",
      "source": [
        "import random\n",
        "import numpy as np\n",
        "from google.colab import files\n",
        "import matplotlib.pyplot as plt"
      ],
      "metadata": {
        "id": "Gx6tKP0Oy_5d"
      },
      "execution_count": 2,
      "outputs": []
    },
    {
      "cell_type": "code",
      "source": [
        "# Kalman Filter Implementation\n",
        "\n",
        "# A - State transition matrix, describing system dynamics\n",
        "# Q - Process noise covariance matrix, uncertainty in system prediction\n",
        "# H - Measurement transformation matrix\n",
        "# R - Measurement noise covariance matrix, ertainty in sensor readings"
      ],
      "metadata": {
        "id": "BGzbMQvFCQDt"
      },
      "execution_count": 3,
      "outputs": []
    },
    {
      "cell_type": "code",
      "source": [
        "# INITIAL ESTIMATES - STATE & STATE ERROR"
      ],
      "metadata": {
        "id": "UrYGMmgwOgU3"
      },
      "execution_count": 4,
      "outputs": []
    },
    {
      "cell_type": "code",
      "source": [
        "# Initialisation of arrays to store states and associated error\n",
        "x_hat = np.zeros((1000, 2))\n",
        "P = np.zeros((1000, 2, 2))\n",
        "z_hat = np.zeros((1000, 2))\n",
        "\n",
        "z_hat = [0.5, 0.2]\n",
        "\n",
        "# Setting initial conditions\n",
        "x_hat[0] = np.array([0, 0])\n",
        "P[0] = np.array([[1, 0],\n",
        "                 [0, 1]])"
      ],
      "metadata": {
        "id": "q6w41MISX_Iz"
      },
      "execution_count": 27,
      "outputs": []
    },
    {
      "cell_type": "code",
      "source": [
        "# TRANSITION & PROCESS ERROR"
      ],
      "metadata": {
        "id": "kAcCMiayOpgS"
      },
      "execution_count": null,
      "outputs": []
    },
    {
      "cell_type": "code",
      "source": [
        "# State transition matrix (A)\n",
        "dt = 0.1\n",
        "A = np.array([[1, dt],\n",
        "              [0,  1]])\n",
        "\n",
        "# Process noise covariance matrix (Q)\n",
        "Q = np.array([[dt**4/4, dt**3/2],\n",
        "              [dt**3/2,   dt**2]])"
      ],
      "metadata": {
        "id": "N6YHmSwoufOD"
      },
      "execution_count": 17,
      "outputs": []
    },
    {
      "cell_type": "code",
      "source": [
        "# MEASUREMENT READINGS, STATE TRANFORMATION AND NOISE"
      ],
      "metadata": {
        "id": "3SLXQB8_OzBd"
      },
      "execution_count": null,
      "outputs": []
    },
    {
      "cell_type": "code",
      "source": [
        "# Measurement matrix (H) we have a one to one state-measurement relationship\n",
        "H = np.array([[1, 0],\n",
        "              [0, 1]])\n",
        "\n",
        "# Measurement noise covariance matrix (R)\n",
        "R = np.array([[0.1, 0],\n",
        "              [0, 0.1]])"
      ],
      "metadata": {
        "id": "E-oG3yAdLzYv"
      },
      "execution_count": 18,
      "outputs": []
    },
    {
      "cell_type": "code",
      "source": [
        "# PREDICTION STEP AND UPDATE SETPS"
      ],
      "metadata": {
        "id": "ENkjZetaO51c"
      },
      "execution_count": null,
      "outputs": []
    },
    {
      "cell_type": "code",
      "source": [
        "for k in range(1, 200):\n",
        "  # State prediction\n",
        "  x_hat_minus = np.dot(A, x_hat[k-1])\n",
        "  # Error prediction\n",
        "  P_minus = np.dot(A, np.dot(P[k-1], A.T)) + Q\n",
        "\n",
        "# *****************************************************\n",
        "\n",
        "  # Kalman gain calculation\n",
        "  K = np.dot(P_minus, np.dot(H.T, np.linalg.inv(np.dot(H, np.dot(P_minus, H.T)) + R)))\n",
        "  # State update calculation\n",
        "  x_hat[k] = x_hat_minus + np.dot(K, (z_hat - np.dot(H, x_hat_minus)))\n",
        "  # Uncertainty calculation\n",
        "  P[k] = np.dot((np.eye(2) - np.dot(K, H)), P_minus)\n",
        "\n",
        "  print(f\"Iteration {k}:\")\n",
        "  print(f\"x_hat: {x_hat[k]},\")\n",
        "  print(f\"P: {P[k]}\\n\")"
      ],
      "metadata": {
        "id": "7Bcz0TkDSrPC"
      },
      "execution_count": null,
      "outputs": []
    },
    {
      "cell_type": "code",
      "source": [],
      "metadata": {
        "id": "D-C3ytvpm6U5"
      },
      "execution_count": null,
      "outputs": []
    }
  ]
}